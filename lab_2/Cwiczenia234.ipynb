{
 "cells": [
  {
   "cell_type": "code",
   "execution_count": 0,
   "metadata": {
    "application/vnd.databricks.v1+cell": {
     "cellMetadata": {
      "byteLimit": 2048000,
      "rowLimit": 10000
     },
     "inputWidgets": {},
     "nuid": "b14cd56c-4bf4-429c-a2e0-62072e69c619",
     "showTitle": false,
     "tableResultSettingsMap": {},
     "title": ""
    }
   },
   "outputs": [
    {
     "output_type": "stream",
     "name": "stdout",
     "output_type": "stream",
     "text": [
      "+------+-------------------+-------------------+---------------+-------------+----------------+---------------+---------+-----------------+-----------------+----------------+------------+-----------+---------+-------+----------+------------+------------+\n|Vendor|    Pickup_DateTime|   Dropoff_DateTime|Passenger_Count|Trip_Distance|Pickup_Longitude|Pickup_Latitude|Rate_Code|Store_And_Forward|Dropoff_Longitude|Dropoff_Latitude|Payment_Type|Fare_Amount|Surcharge|MTA_Tax|Tip_Amount|Tolls_Amount|Total_Amount|\n+------+-------------------+-------------------+---------------+-------------+----------------+---------------+---------+-----------------+-----------------+----------------+------------+-----------+---------+-------+----------+------------+------------+\n|     1|2019-12-01 00:26:58|2019-12-01 00:41:45|              1|          4.2|             1.0|           null|      142|              116|              2.0|            14.5|           3|        0.5|      0.0|    0.0|       0.3|        18.3|         2.5|\n|     1|2019-12-01 00:12:08|2019-12-01 00:12:14|              1|          0.0|             1.0|           null|      145|              145|              2.0|             2.5|         0.5|        0.5|      0.0|    0.0|       0.3|         3.8|         0.0|\n|     1|2019-12-01 00:25:53|2019-12-01 00:26:04|              1|          0.0|             1.0|           null|      145|              145|              2.0|             2.5|         0.5|        0.5|      0.0|    0.0|       0.3|         3.8|         0.0|\n|     1|2019-12-01 00:12:03|2019-12-01 00:33:19|              2|          9.4|             1.0|           null|      138|               25|              1.0|            28.5|         0.5|        0.5|     10.0|    0.0|       0.3|        39.8|         0.0|\n|     1|2019-12-01 00:05:27|2019-12-01 00:16:32|              2|          1.6|             1.0|           null|      161|              237|              2.0|             9.0|           3|        0.5|      0.0|    0.0|       0.3|        12.8|         2.5|\n|     1|2019-12-01 00:58:51|2019-12-01 01:08:37|              2|          1.0|             1.0|           null|      161|              230|              2.0|             6.5|           3|        0.5|      0.0|    0.0|       0.3|        10.3|         2.5|\n|     1|2019-12-01 00:14:19|2019-12-01 00:27:06|              0|          1.7|             1.0|           null|      164|              163|              2.0|            10.0|           3|        0.5|      0.0|    0.0|       0.3|        13.8|         2.5|\n|     1|2019-12-01 00:29:35|2019-12-01 00:32:29|              0|          0.5|             1.0|           null|       79|              224|              1.0|             4.0|           3|        0.5|     1.55|    0.0|       0.3|        9.35|         2.5|\n|     1|2019-12-01 00:42:19|2019-12-01 00:50:34|              0|          1.4|             1.0|           null|       79|              107|              2.0|             7.5|           3|        0.5|      0.0|    0.0|       0.3|        11.3|         2.5|\n|     1|2019-12-01 00:19:48|2019-12-01 00:24:18|              1|          0.9|             1.0|           null|      148|                4|              1.0|             5.5|           3|        0.5|     1.85|    0.0|       0.3|       11.15|         2.5|\n|     1|2019-12-01 00:36:16|2019-12-01 00:53:42|              3|          5.5|             1.0|           null|       79|              226|              1.0|            18.0|           3|        0.5|     4.35|    0.0|       0.3|       26.15|         2.5|\n|     2|2019-11-30 23:54:45|2019-12-01 00:09:57|              1|         2.12|             1.0|           null|      234|              230|              2.0|            12.0|         0.5|        0.5|      0.0|    0.0|       0.3|        15.8|         2.5|\n|     2|2019-12-01 00:39:43|2019-12-01 00:52:06|              1|         1.15|             1.0|           null|      186|               48|              2.0|             9.0|         0.5|        0.5|      0.0|    0.0|       0.3|        12.8|         2.5|\n|     2|2019-12-01 00:43:02|2019-12-01 01:11:18|              1|        13.07|             1.0|           null|       41|               51|              2.0|            38.5|         0.5|        0.5|      0.0|    0.0|       0.3|        39.8|         0.0|\n|     1|2019-12-01 00:04:40|2019-12-01 00:31:27|              0|         17.4|             2.0|           null|      132|              141|              1.0|            52.0|         2.5|        0.5|     5.53|    0.0|       0.3|       60.83|         2.5|\n+------+-------------------+-------------------+---------------+-------------+----------------+---------------+---------+-----------------+-----------------+----------------+------------+-----------+---------+-------+----------+------------+------------+\nonly showing top 15 rows\n\n"
     ]
    },
    {
     "output_type": "display_data",
     "data": {
      "text/html": [
       "<style scoped>\n",
       "  .ansiout {\n",
       "    display: block;\n",
       "    unicode-bidi: embed;\n",
       "    white-space: pre-wrap;\n",
       "    word-wrap: break-word;\n",
       "    word-break: break-all;\n",
       "    font-family: \"Menlo\", \"Monaco\", \"Consolas\", \"Ubuntu Mono\", \"Source Code Pro\", monospace;\n",
       "    font-size: 13px;\n",
       "    color: #555;\n",
       "    margin-left: 4px;\n",
       "    line-height: 19px;\n",
       "  }\n",
       "</style>"
      ]
     },
     "metadata": {
      "application/vnd.databricks.v1+output": {
       "arguments": {},
       "data": "",
       "errorSummary": "Cancelled",
       "errorTraceType": "html",
       "metadata": {},
       "type": "ipynbError"
      }
     },
     "output_type": "display_data"
    }
   ],
   "source": [
    "from pyspark.sql.functions import col, lit, expr, when\n",
    "\n",
    "from pyspark.sql.types import *\n",
    "\n",
    "from datetime import datetime\n",
    "\n",
    "import time\n",
    "\n",
    " \n",
    "\n",
    "# Define schema\n",
    "\n",
    "nyc_schema = StructType([\n",
    "\n",
    "  StructField('Vendor', StringType(), True),\n",
    "\n",
    "  StructField('Pickup_DateTime', TimestampType(), True),\n",
    "\n",
    "  StructField('Dropoff_DateTime', TimestampType(), True),\n",
    "\n",
    "  StructField('Passenger_Count', IntegerType(), True),\n",
    "\n",
    "  StructField('Trip_Distance', DoubleType(), True),\n",
    "\n",
    "  StructField('Pickup_Longitude', DoubleType(), True),\n",
    "\n",
    "  StructField('Pickup_Latitude', DoubleType(), True),\n",
    "\n",
    "  StructField('Rate_Code', StringType(), True),\n",
    "\n",
    "  StructField('Store_And_Forward', StringType(), True),\n",
    "\n",
    "  StructField('Dropoff_Longitude', DoubleType(), True),\n",
    "\n",
    "  StructField('Dropoff_Latitude', DoubleType(), True),\n",
    "\n",
    "  StructField('Payment_Type', StringType(), True),\n",
    "\n",
    "  StructField('Fare_Amount', DoubleType(), True),\n",
    "\n",
    "  StructField('Surcharge', DoubleType(), True),\n",
    "\n",
    "  StructField('MTA_Tax', DoubleType(), True),\n",
    "\n",
    "  StructField('Tip_Amount', DoubleType(), True),\n",
    "\n",
    "  StructField('Tolls_Amount', DoubleType(), True),\n",
    "\n",
    "  StructField('Total_Amount', DoubleType(), True)\n",
    "\n",
    "])\n",
    "\n",
    " \n",
    "\n",
    "rawDF = spark.read.format('csv').options(header=True).schema(nyc_schema).load(\"dbfs:/databricks-datasets/nyctaxi/tripdata/yellow/yellow_tripdata_2019-12.csv.gz\")\\\n",
    "\n",
    "rawDF.show(15)\n",
    "\n",
    "\n",
    "\n",
    "\n",
    "\n"
   ]
  },
  {
   "cell_type": "code",
   "execution_count": 0,
   "metadata": {
    "application/vnd.databricks.v1+cell": {
     "cellMetadata": {},
     "inputWidgets": {},
     "nuid": "b9e524d8-701d-4c11-8fdb-fabc4ad735e6",
     "showTitle": false,
     "tableResultSettingsMap": {},
     "title": ""
    }
   },
   "outputs": [],
   "source": [
    "from pyspark.sql.functions import col, lit, expr, when\n",
    "\n",
    "from pyspark.sql.types import *\n",
    "\n",
    "from datetime import datetime\n",
    "\n",
    "import time\n",
    "\n",
    "# 3 \n",
    "corruptedDF = rawDF.withColumn(\"Tip_Amount\", when(col(\"Tip_Amount\") == 0.3, lit(\"trzydziesiate\")).otherwise(col(\"Tip_Amount\")))\n",
    "\n",
    "\n",
    "corrupted_file_path = \"dbfs:/tmp/corrupted_tips.csv\"\n",
    "corruptedDF.write.mode(\"overwrite\").option(\"header\", \"true\").csv(corrupted_file_path)\n",
    "\n",
    "read_modes = [\"PERMISSIVE\", \"DROPMALFORMED\", \"FAILFAST\"]\n",
    "\n",
    "for mode in read_modes:\n",
    "    print(f\"\\n Odczyt w trybie: {mode}\")\n",
    "    try:\n",
    "        df = spark.read.format(\"csv\").option(\"header\", \"true\").option(\"mode\", mode).schema(nyc_schema).load(corrupted_file_path)\n",
    "        df.show(5)\n",
    "    except Exception as e:\n",
    "        print(f\" Błąd w trybie {mode}: {e}\")\n"
   ]
  },
  {
   "cell_type": "code",
   "execution_count": 0,
   "metadata": {
    "application/vnd.databricks.v1+cell": {
     "cellMetadata": {
      "byteLimit": 2048000,
      "rowLimit": 10000
     },
     "inputWidgets": {},
     "nuid": "7d4e494a-4474-45e3-96cf-64deec6fe746",
     "showTitle": false,
     "tableResultSettingsMap": {},
     "title": ""
    }
   },
   "outputs": [
    {
     "output_type": "stream",
     "name": "stdout",
     "output_type": "stream",
     "text": [
      "\n Dane z Parquet:\n+------+-------------------+-------------------+---------------+-------------+----------------+---------------+---------+-----------------+-----------------+----------------+------------+-----------+---------+-------+----------+------------+------------+\n|Vendor|    Pickup_DateTime|   Dropoff_DateTime|Passenger_Count|Trip_Distance|Pickup_Longitude|Pickup_Latitude|Rate_Code|Store_And_Forward|Dropoff_Longitude|Dropoff_Latitude|Payment_Type|Fare_Amount|Surcharge|MTA_Tax|Tip_Amount|Tolls_Amount|Total_Amount|\n+------+-------------------+-------------------+---------------+-------------+----------------+---------------+---------+-----------------+-----------------+----------------+------------+-----------+---------+-------+----------+------------+------------+\n|     1|2019-12-01 00:26:58|2019-12-01 00:41:45|              1|          4.2|             1.0|           null|      142|              116|              2.0|            14.5|           3|        0.5|      0.0|    0.0|       0.3|        18.3|         2.5|\n|     1|2019-12-01 00:12:08|2019-12-01 00:12:14|              1|          0.0|             1.0|           null|      145|              145|              2.0|             2.5|         0.5|        0.5|      0.0|    0.0|       0.3|         3.8|         0.0|\n|     1|2019-12-01 00:25:53|2019-12-01 00:26:04|              1|          0.0|             1.0|           null|      145|              145|              2.0|             2.5|         0.5|        0.5|      0.0|    0.0|       0.3|         3.8|         0.0|\n|     1|2019-12-01 00:12:03|2019-12-01 00:33:19|              2|          9.4|             1.0|           null|      138|               25|              1.0|            28.5|         0.5|        0.5|     10.0|    0.0|       0.3|        39.8|         0.0|\n|     1|2019-12-01 00:05:27|2019-12-01 00:16:32|              2|          1.6|             1.0|           null|      161|              237|              2.0|             9.0|           3|        0.5|      0.0|    0.0|       0.3|        12.8|         2.5|\n+------+-------------------+-------------------+---------------+-------------+----------------+---------------+---------+-----------------+-----------------+----------------+------------+-----------+---------+-------+----------+------------+------------+\nonly showing top 5 rows\n\n\n Dane z JSON:\n+--------------------+----------------+-----------------+-----------+-------+---------------+------------+--------------------+----------------+---------+-----------------+---------+----------+------------+------------+-------------+------+\n|    Dropoff_DateTime|Dropoff_Latitude|Dropoff_Longitude|Fare_Amount|MTA_Tax|Passenger_Count|Payment_Type|     Pickup_DateTime|Pickup_Longitude|Rate_Code|Store_And_Forward|Surcharge|Tip_Amount|Tolls_Amount|Total_Amount|Trip_Distance|Vendor|\n+--------------------+----------------+-----------------+-----------+-------+---------------+------------+--------------------+----------------+---------+-----------------+---------+----------+------------+------------+-------------+------+\n|2019-12-01T00:41:...|            14.5|              2.0|        0.5|    0.0|              1|           3|2019-12-01T00:26:...|             1.0|      142|              116|      0.0|       0.3|        18.3|         2.5|          4.2|     1|\n|2019-12-01T00:12:...|             2.5|              2.0|        0.5|    0.0|              1|         0.5|2019-12-01T00:12:...|             1.0|      145|              145|      0.0|       0.3|         3.8|         0.0|          0.0|     1|\n|2019-12-01T00:26:...|             2.5|              2.0|        0.5|    0.0|              1|         0.5|2019-12-01T00:25:...|             1.0|      145|              145|      0.0|       0.3|         3.8|         0.0|          0.0|     1|\n|2019-12-01T00:33:...|            28.5|              1.0|        0.5|    0.0|              2|         0.5|2019-12-01T00:12:...|             1.0|      138|               25|     10.0|       0.3|        39.8|         0.0|          9.4|     1|\n|2019-12-01T00:16:...|             9.0|              2.0|        0.5|    0.0|              2|           3|2019-12-01T00:05:...|             1.0|      161|              237|      0.0|       0.3|        12.8|         2.5|          1.6|     1|\n+--------------------+----------------+-----------------+-----------+-------+---------------+------------+--------------------+----------------+---------+-----------------+---------+----------+------------+------------+-------------+------+\nonly showing top 5 rows\n\n"
     ]
    }
   ],
   "source": [
    "from pyspark.sql.functions import col, lit, expr, when\n",
    "\n",
    "from pyspark.sql.types import *\n",
    "\n",
    "from datetime import datetime\n",
    "\n",
    "import time\n",
    "\n",
    "# 4 \n",
    "\n",
    "parquet_path = \"dbfs:/tmp/nyc_taxi.parquet\"\n",
    "json_path = \"dbfs:/tmp/nyc_taxi.json\"\n",
    "\n",
    "rawDF.write.mode(\"overwrite\").parquet(parquet_path)\n",
    "rawDF.write.mode(\"overwrite\").json(json_path)\n",
    "\n",
    "#sprawdzenie\n",
    "\n",
    "\n",
    "print(\"\\n Dane z Parquet:\")\n",
    "parquetDF = spark.read.parquet(parquet_path)\n",
    "parquetDF.show(5)\n",
    "\n",
    "# Odczyt JSON\n",
    "print(\"\\n Dane z JSON:\")\n",
    "jsonDF = spark.read.json(json_path)\n",
    "jsonDF.show(5)\n"
   ]
  }
 ],
 "metadata": {
  "application/vnd.databricks.v1+notebook": {
   "computePreferences": null,
   "dashboards": [],
   "environmentMetadata": {
    "base_environment": "",
    "client": "1"
   },
   "language": "python",
   "notebookMetadata": {
    "pythonIndentUnit": 4
   },
   "notebookName": "Notatnik 2",
   "widgets": {}
  }
 },
 "nbformat": 4,
 "nbformat_minor": 0
}
